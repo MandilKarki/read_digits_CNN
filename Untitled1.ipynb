{
  "nbformat": 4,
  "nbformat_minor": 0,
  "metadata": {
    "colab": {
      "name": "Untitled1.ipynb",
      "provenance": [],
      "collapsed_sections": [],
      "authorship_tag": "ABX9TyOoA79Sw3h28HnH8pQv+QYl",
      "include_colab_link": true
    },
    "kernelspec": {
      "name": "python3",
      "display_name": "Python 3"
    }
  },
  "cells": [
    {
      "cell_type": "markdown",
      "metadata": {
        "id": "view-in-github",
        "colab_type": "text"
      },
      "source": [
        "<a href=\"https://colab.research.google.com/github/MandilKarki/read_digits_CNN/blob/main/Untitled1.ipynb\" target=\"_parent\"><img src=\"https://colab.research.google.com/assets/colab-badge.svg\" alt=\"Open In Colab\"/></a>"
      ]
    },
    {
      "cell_type": "code",
      "metadata": {
        "id": "X7_vt3GvReH5"
      },
      "source": [
        "#this program uses convolutional neural networks(CNN) to classify hand written digits as numbers 0-9"
      ],
      "execution_count": null,
      "outputs": []
    },
    {
      "cell_type": "markdown",
      "metadata": {
        "id": "AMV5LOssSGKD"
      },
      "source": [
        "#this program uses convolutional neural networks(CNN) to classify hand written digits as numbers 0-9\n",
        "\n"
      ]
    },
    {
      "cell_type": "code",
      "metadata": {
        "id": "IGh3ILLMSMdr"
      },
      "source": [
        "#import the libraries\n",
        "from keras.models import Sequential\n",
        "from keras.layers import Dense , Conv2D , Flatten\n",
        "from keras.datasets import mnist\n",
        "from keras.utils import to_categorical\n",
        "import matplotlib.pyplot as plt\n",
        "import numpy as np\n"
      ],
      "execution_count": 16,
      "outputs": []
    },
    {
      "cell_type": "code",
      "metadata": {
        "colab": {
          "base_uri": "https://localhost:8080/"
        },
        "id": "UleA4frLS9jR",
        "outputId": "f58436ca-b5b5-4aac-8f98-8ccd7ed036b4"
      },
      "source": [
        "#load the data and split it into train and test\n",
        "(x_train,y_train) , (x_test,y_test) = mnist.load_data()"
      ],
      "execution_count": 18,
      "outputs": [
        {
          "output_type": "stream",
          "text": [
            "Downloading data from https://storage.googleapis.com/tensorflow/tf-keras-datasets/mnist.npz\n",
            "11493376/11490434 [==============================] - 0s 0us/step\n"
          ],
          "name": "stdout"
        }
      ]
    },
    {
      "cell_type": "code",
      "metadata": {
        "colab": {
          "base_uri": "https://localhost:8080/"
        },
        "id": "SDhGgEvcVUyH",
        "outputId": "6a2944d2-c016-4ccd-8094-0d16aa071bb3"
      },
      "source": [
        "#Get the image shape\n",
        "print(x_train.shape)\n",
        "print(x_test.shape)"
      ],
      "execution_count": 24,
      "outputs": [
        {
          "output_type": "stream",
          "text": [
            "(60000, 28, 28)\n",
            "(10000, 28, 28)\n"
          ],
          "name": "stdout"
        }
      ]
    },
    {
      "cell_type": "code",
      "metadata": {
        "id": "byxz5dSAVlmO"
      },
      "source": [
        "#take a look at the first image( at index  = 0 ) in the training data sets\n",
        "#x_train[0]"
      ],
      "execution_count": 25,
      "outputs": []
    },
    {
      "cell_type": "code",
      "metadata": {
        "colab": {
          "base_uri": "https://localhost:8080/"
        },
        "id": "3Lz0W-OEV2tP",
        "outputId": "99b6b2c4-6285-4a59-eee2-a30777f75cc7"
      },
      "source": [
        "#print the image label\n",
        "y_train[0]"
      ],
      "execution_count": 27,
      "outputs": [
        {
          "output_type": "execute_result",
          "data": {
            "text/plain": [
              "5"
            ]
          },
          "metadata": {
            "tags": []
          },
          "execution_count": 27
        }
      ]
    },
    {
      "cell_type": "code",
      "metadata": {
        "colab": {
          "base_uri": "https://localhost:8080/",
          "height": 282
        },
        "id": "QW9CBhTfWP8A",
        "outputId": "4ae2d0f5-f056-4637-ba64-bb751ebac700"
      },
      "source": [
        "#show the image aas a picture\n",
        "plt.imshow(x_train[0])"
      ],
      "execution_count": 28,
      "outputs": [
        {
          "output_type": "execute_result",
          "data": {
            "text/plain": [
              "<matplotlib.image.AxesImage at 0x7f618ee62710>"
            ]
          },
          "metadata": {
            "tags": []
          },
          "execution_count": 28
        },
        {
          "output_type": "display_data",
          "data": {
            "image/png": "[encoded data removed]",
            "text/plain": [
              "<Figure size 432x288 with 1 Axes>"
            ]
          },
          "metadata": {
            "tags": [],
            "needs_background": "light"
          }
        }
      ]
    },
    {
      "cell_type": "code",
      "metadata": {
        "id": "gCMELsqqWfUe"
      },
      "source": [
        "#reshape the data to fit the model\n",
        "x_train = x_train.reshape(60000,28,28,1)\n",
        "x_test = x_test.reshape(10000,28,28,1)"
      ],
      "execution_count": 29,
      "outputs": []
    },
    {
      "cell_type": "code",
      "metadata": {
        "id": "MJ5POwHIXOfc"
      },
      "source": [
        "#one hot encoding\n",
        "y_train_one_hot = to_categorical(y_train)\n",
        "y_test_one_hot = to_categorical(y_test)"
      ],
      "execution_count": 30,
      "outputs": []
    },
    {
      "cell_type": "code",
      "metadata": {
        "colab": {
          "base_uri": "https://localhost:8080/"
        },
        "id": "Vn5xVCKXXfMQ",
        "outputId": "1ebbc93a-5b6b-4103-978c-7bbc846702f0"
      },
      "source": [
        "#print the new label\n",
        "print(y_train_one_hot[0])"
      ],
      "execution_count": 31,
      "outputs": [
        {
          "output_type": "stream",
          "text": [
            "[0. 0. 0. 0. 0. 1. 0. 0. 0. 0.]\n"
          ],
          "name": "stdout"
        }
      ]
    },
    {
      "cell_type": "code",
      "metadata": {
        "id": "epkk0erPXoMz"
      },
      "source": [
        "#build the cnn model\n",
        "model = Sequential()\n",
        "#add model layers\n",
        "model.add(Conv2D(64, kernel_size = 3, activation = \"relu\",input_shape = (28,28,1)))\n",
        "model.add(Conv2D(32, kernel_size = 3, activation = \"relu\"))\n",
        "model.add(Flatten())\n",
        "model.add(Dense(10, activation = \"softmax\"))"
      ],
      "execution_count": 33,
      "outputs": []
    },
    {
      "cell_type": "code",
      "metadata": {
        "id": "dN4kYWvWYrXj"
      },
      "source": [
        "#compile the model\n",
        "model.compile(optimizer = \"adam\" , loss = \"categorical_crossentropy\", metrics = [\"accuracy\"])"
      ],
      "execution_count": 35,
      "outputs": []
    },
    {
      "cell_type": "code",
      "metadata": {
        "colab": {
          "base_uri": "https://localhost:8080/"
        },
        "id": "IzSssRJyZET_",
        "outputId": "e096f8ca-5ddb-4093-e240-01afc9629563"
      },
      "source": [
        "#train the model\n",
        "hist = model.fit(x_train,y_train_one_hot, validation_data=(x_test,y_test_one_hot) , epochs =3 )"
      ],
      "execution_count": 37,
      "outputs": [
        {
          "output_type": "stream",
          "text": [
            "Epoch 1/3\n",
            "1875/1875 [==============================] - 156s 83ms/step - loss: 0.2887 - accuracy: 0.9490 - val_loss: 0.0824 - val_accuracy: 0.9743\n",
            "Epoch 2/3\n",
            "1875/1875 [==============================] - 156s 83ms/step - loss: 0.0711 - accuracy: 0.9783 - val_loss: 0.0928 - val_accuracy: 0.9728\n",
            "Epoch 3/3\n",
            "1875/1875 [==============================] - 156s 83ms/step - loss: 0.0502 - accuracy: 0.9840 - val_loss: 0.0869 - val_accuracy: 0.9744\n"
          ],
          "name": "stdout"
        }
      ]
    },
    {
      "cell_type": "code",
      "metadata": {
        "colab": {
          "base_uri": "https://localhost:8080/",
          "height": 295
        },
        "id": "m8cUkvPGZuq_",
        "outputId": "d2c78654-110d-4dea-a76a-a6581a273047"
      },
      "source": [
        "##visualise the models acccuracy\n",
        "plt.plot(hist.history['accuracy'])\n",
        "plt.plot(hist.history['val_accuracy'])\n",
        "plt.title(\"model Accuracy\")\n",
        "plt.ylabel('accuracy')\n",
        "plt.xlabel('Epoch')\n",
        "plt.legend([\"train\",\"val\"], loc ='upper left')\n",
        "plt.show()"
      ],
      "execution_count": 44,
      "outputs": [
        {
          "output_type": "display_data",
          "data": {
            "image/png": "[encoded data removed]",
            "text/plain": [
              "<Figure size 432x288 with 1 Axes>"
            ]
          },
          "metadata": {
            "tags": [],
            "needs_background": "light"
          }
        }
      ]
    },
    {
      "cell_type": "code",
      "metadata": {
        "colab": {
          "base_uri": "https://localhost:8080/"
        },
        "id": "n9GFbvlgbo3x",
        "outputId": "9d5c362f-db24-4d74-adc1-ee2b6247b89b"
      },
      "source": [
        "#show predictions as probabilites for the first 4 images in the test set\n",
        "predictions = model.predict(x_test[:4])\n",
        "predictions"
      ],
      "execution_count": 47,
      "outputs": [
        {
          "output_type": "execute_result",
          "data": {
            "text/plain": [
              "array([[1.68431114e-07, 3.08160789e-12, 7.34208783e-08, 6.25830362e-05,\n",
              "        2.94621993e-10, 1.14867593e-09, 8.56283469e-13, 9.99934912e-01,\n",
              "        1.15051284e-06, 1.07461756e-06],\n",
              "       [1.02701442e-07, 2.28250133e-06, 9.99996662e-01, 2.83262214e-08,\n",
              "        4.75283224e-12, 4.72605947e-11, 9.63799948e-07, 6.08346576e-12,\n",
              "        4.55946143e-08, 1.72346290e-10],\n",
              "       [5.68819560e-05, 9.85175431e-01, 8.40489694e-04, 3.79502262e-06,\n",
              "        1.88286800e-03, 3.19294864e-04, 1.79751497e-03, 1.74720699e-04,\n",
              "        9.65435151e-03, 9.45957654e-05],\n",
              "       [9.99694109e-01, 2.78201426e-08, 5.85517519e-05, 9.96475293e-08,\n",
              "        5.82281601e-09, 4.93449406e-05, 1.18754986e-04, 6.20537364e-08,\n",
              "        4.86329482e-05, 3.03198412e-05]], dtype=float32)"
            ]
          },
          "metadata": {
            "tags": []
          },
          "execution_count": 47
        }
      ]
    },
    {
      "cell_type": "code",
      "metadata": {
        "colab": {
          "base_uri": "https://localhost:8080/"
        },
        "id": "Mlvwnoz8ck9o",
        "outputId": "6559ef49-7175-477c-d510-4b7a056cfdf5"
      },
      "source": [
        "#print our predictions as number labels for the first 4 images\n",
        "print(np.argmax(predictions,axis=1))"
      ],
      "execution_count": 48,
      "outputs": [
        {
          "output_type": "stream",
          "text": [
            "[7 2 1 0]\n"
          ],
          "name": "stdout"
        }
      ]
    },
    {
      "cell_type": "code",
      "metadata": {
        "colab": {
          "base_uri": "https://localhost:8080/"
        },
        "id": "QA3Y2Y0tc8VM",
        "outputId": "f1fe60e1-ce1e-4eb3-8484-a586730e66dc"
      },
      "source": [
        "#print the actual labels\n",
        "print(y_test[:4])"
      ],
      "execution_count": 49,
      "outputs": [
        {
          "output_type": "stream",
          "text": [
            "[7 2 1 0]\n"
          ],
          "name": "stdout"
        }
      ]
    },
    {
      "cell_type": "code",
      "metadata": {
        "colab": {
          "base_uri": "https://localhost:8080/",
          "height": 1000
        },
        "id": "BnFstNQgdcZ2",
        "outputId": "c522e2b3-a501-4732-d2fd-04dbdb7818bd"
      },
      "source": [
        "#show the first 4 images as pictures \n",
        "for i in range (0,4):\n",
        "  image = x_test[i]\n",
        "  image = np.array(image,dtype=\"float\")\n",
        "  pixels = image.reshape((28,28))\n",
        "  plt.imshow(pixels, cmap='gray')\n",
        "  plt.show()"
      ],
      "execution_count": 53,
      "outputs": [
        {
          "output_type": "display_data",
          "data": {
            "image/png": "[encoded data removed]",
            "text/plain": [
              "<Figure size 432x288 with 1 Axes>"
            ]
          },
          "metadata": {
            "tags": [],
            "needs_background": "light"
          }
        },
        {
          "output_type": "display_data",
          "data": {
            "image/png": "[encoded data removed]",
            "text/plain": [
              "<Figure size 432x288 with 1 Axes>"
            ]
          },
          "metadata": {
            "tags": [],
            "needs_background": "light"
          }
        },
        {
          "output_type": "display_data",
          "data": {
            "image/png": "[encoded data removed]",
            "text/plain": [
              "<Figure size 432x288 with 1 Axes>"
            ]
          },
          "metadata": {
            "tags": [],
            "needs_background": "light"
          }
        },
        {
          "output_type": "display_data",
          "data": {
            "image/png": "[encoded data removed]",
            "text/plain": [
              "<Figure size 432x288 with 1 Axes>"
            ]
          },
          "metadata": {
            "tags": [],
            "needs_background": "light"
          }
        }
      ]
    },
    {
      "cell_type": "code",
      "metadata": {
        "id": "_T5l6NOgeZS8"
      },
      "source": [
        ""
      ],
      "execution_count": null,
      "outputs": []
    }
  ]
}